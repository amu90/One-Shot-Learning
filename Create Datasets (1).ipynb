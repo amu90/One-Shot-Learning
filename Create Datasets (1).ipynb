{
 "cells": [
  {
   "cell_type": "code",
   "execution_count": 1,
   "metadata": {},
   "outputs": [
    {
     "name": "stderr",
     "output_type": "stream",
     "text": [
      "C:\\Users\\akaur\\Anaconda3\\lib\\site-packages\\h5py\\__init__.py:36: FutureWarning: Conversion of the second argument of issubdtype from `float` to `np.floating` is deprecated. In future, it will be treated as `np.float64 == np.dtype(float).type`.\n",
      "  from ._conv import register_converters as _register_converters\n",
      "Using TensorFlow backend.\n"
     ]
    }
   ],
   "source": [
    "import os\n",
    "import numpy as np\n",
    "import pandas as pd\n",
    "import keras"
   ]
  },
  {
   "cell_type": "code",
   "execution_count": 4,
   "metadata": {},
   "outputs": [],
   "source": [
    "basePath = \"C:/Users/akaur/Desktop/Deakin/Dataset\"\n",
    "trainPath = os.path.join(basePath,'Train')\n",
    "testPath = os.path.join(basePath,'Test')"
   ]
  },
  {
   "cell_type": "code",
   "execution_count": 6,
   "metadata": {},
   "outputs": [],
   "source": [
    "os.chdir(basePath+\"/All\")"
   ]
  },
  {
   "cell_type": "code",
   "execution_count": 7,
   "metadata": {},
   "outputs": [
    {
     "name": "stdout",
     "output_type": "stream",
     "text": [
      "character21\n",
      "character23\n",
      "character06\n",
      "character14\n",
      "character08\n",
      "character03\n",
      "character28\n",
      "character04\n",
      "character12\n",
      "character25\n",
      "character26\n",
      "character22\n",
      "character13\n",
      "character16\n",
      "character27\n",
      "character15\n",
      "character20\n",
      "character18\n",
      "character17\n",
      "character24\n",
      "character07\n",
      "character10\n",
      "character11\n",
      "character01\n",
      "character09\n",
      "character30\n",
      "character02\n",
      "character19\n",
      "character29\n",
      "character05\n"
     ]
    }
   ],
   "source": [
    "characterList = os.listdir(\"./\")\n",
    "\n",
    "for character in characterList:\n",
    "    os.chdir(os.path.join(basePath,\"All\",character))\n",
    "    \n",
    "    imgList = sorted(os.listdir(\"./\"))\n",
    "    trainFolderPath = os.path.join(basePath,\"Train\",character)\n",
    "    testFolderPath = os.path.join(basePath,\"Test\",character)\n",
    "    \n",
    "    !mkdir $trainFolderPath\n",
    "    !mkdir $testFolderPath\n",
    "    print(character)\n",
    "    \n",
    "    #Storing first 15 images for training\n",
    "    for i in range(15):\n",
    "        \n",
    "        filename = imgList[i]\n",
    "        ! cp $filename $trainFolderPath\n",
    "    #Rest 5 images for testing\n",
    "    for i in range(15,20):\n",
    "        filename = imgList[i]\n",
    "        ! cp $filename $testFolderPath\n",
    "\n",
    "        \n",
    "os.chdir(basePath+\"/All\")"
   ]
  },
  {
   "cell_type": "code",
   "execution_count": null,
   "metadata": {},
   "outputs": [],
   "source": []
  }
 ],
 "metadata": {
  "kernelspec": {
   "display_name": "Python 3",
   "language": "python",
   "name": "python3"
  },
  "language_info": {
   "codemirror_mode": {
    "name": "ipython",
    "version": 3
   },
   "file_extension": ".py",
   "mimetype": "text/x-python",
   "name": "python",
   "nbconvert_exporter": "python",
   "pygments_lexer": "ipython3",
   "version": "3.6.4"
  }
 },
 "nbformat": 4,
 "nbformat_minor": 2
}

{
 "cells": [
  {
   "cell_type": "code",
   "execution_count": 65,
   "metadata": {},
   "outputs": [],
   "source": [
    "import os\n",
    "import pandas as pd\n",
    "import numpy as np\n",
    "import PIL\n",
    "import matplotlib\n",
    "import matplotlib.pyplot as plt\n",
    "%matplotlib inline\n",
    "from keras.models import load_model,save_model\n",
    "from keras.callbacks import ModelCheckpoint\n",
    "from matplotlib.patches import Rectangle\n",
    "import os\n",
    "from scipy.misc import imsave\n",
    "import keras\n",
    "from keras.preprocessing.image import ImageDataGenerator, array_to_img, img_to_array, load_img\n",
    "from keras.preprocessing import image\n",
    "from keras.applications import xception\n",
    "from keras.models import Sequential, Model\n",
    "from keras.layers import Conv2D, MaxPooling2D, Input, Lambda\n",
    "from keras.layers import Activation, Dropout, Flatten, Dense\n",
    "from keras.layers import BatchNormalization\n",
    "from keras.optimizers import Adadelta\n",
    "from math import sqrt\n",
    "from keras.callbacks import History \n",
    "import gc\n",
    "from numpy.random import randint, choice\n",
    "import numpy.random as rng\n",
    "import keras.backend as K"
   ]
  },
  {
   "cell_type": "code",
   "execution_count": 66,
   "metadata": {},
   "outputs": [],
   "source": [
    "from keras.preprocessing import image\n",
    "\n",
    "def read_img(filepath, size):\n",
    "    img = image.load_img((filepath), target_size=size)\n",
    "    img = image.img_to_array(img,data_format='channels_last')\n",
    "    return img"
   ]
  },
  {
   "cell_type": "markdown",
   "metadata": {},
   "source": [
    "#### Data Processing\n"
   ]
  },
  {
   "cell_type": "markdown",
   "metadata": {},
   "source": [
    "#### Dataset Details: \n",
    "The image dataset consists of good, blurry and flare image types with each type containing 25 images.  \n",
    "I splitted the dataset into traning and validation sets, where the training data have 20 images and the validation data have 5 images of each type.\n",
    "\n"
   ]
  },
  {
   "cell_type": "code",
   "execution_count": 84,
   "metadata": {},
   "outputs": [],
   "source": [
    "input_dim = (45,45,3)\n",
    "imgSize=(45,45)\n",
    "\n",
    "basePath = \"C:/Users/akaur/Desktop/Data\"\n",
    "trainPath = os.path.join(basePath,'Train')\n",
    "ValidationPath = os.path.join(basePath,'Validation')"
   ]
  },
  {
   "cell_type": "markdown",
   "metadata": {},
   "source": [
    "#### Creating list of images\n",
    "\n",
    "The Siamese network encodes the images into feature vectors. The Siamese network accepts the paired input.The paired input contains the list of positive pairs i.e. same kind of images and the negative pairs i.e. different images. The target value for the positive pairs is 1 and the negative pairs is 0. "
   ]
  },
  {
   "cell_type": "code",
   "execution_count": 68,
   "metadata": {},
   "outputs": [],
   "source": [
    "pairList = []\n",
    "folderList = sorted(os.listdir(trainPath))\n"
   ]
  },
  {
   "cell_type": "code",
   "execution_count": 69,
   "metadata": {},
   "outputs": [
    {
     "name": "stdout",
     "output_type": "stream",
     "text": [
      "['blurry-data', 'flare-data', 'good-data']\n"
     ]
    }
   ],
   "source": [
    "print(folderList)"
   ]
  },
  {
   "cell_type": "code",
   "execution_count": 70,
   "metadata": {},
   "outputs": [],
   "source": [
    "# Adding positive samples\n",
    "for folder in folderList:\n",
    "    imgList = os.listdir(os.path.join(trainPath,folder))\n",
    "    for x in range(len(imgList)):\n",
    "        for y in range(x, len(imgList)):\n",
    "            img1 = read_img(os.path.join(trainPath,folder,imgList[x]) , imgSize)\n",
    "            img2 = read_img(os.path.join(trainPath,folder,imgList[y]) , imgSize)\n",
    "            pairList.append(((img1,img2),1))   "
   ]
  },
  {
   "cell_type": "code",
   "execution_count": 71,
   "metadata": {},
   "outputs": [
    {
     "name": "stdout",
     "output_type": "stream",
     "text": [
      "517\n"
     ]
    }
   ],
   "source": [
    "np.random.shuffle(pairList)\n",
    "print(len(pairList))"
   ]
  },
  {
   "cell_type": "code",
   "execution_count": 73,
   "metadata": {},
   "outputs": [],
   "source": [
    "for i in range(len(folderList)-1):\n",
    "    for j in range(i,len(folderList)):\n",
    "        folder1 = folderList[i]\n",
    "        folder2 = folderList[j]\n",
    "        if folder1!=folder2:\n",
    "            imgList1 = os.listdir(os.path.join(trainPath,folder1))\n",
    "            imgList2 = os.listdir(os.path.join(trainPath,folder2))\n",
    "            for x in range(len(imgList1)):\n",
    "                for y in range(len(imgList2)):\n",
    "                    img1 = read_img(os.path.join(trainPath,folder1,imgList1[x]) , imgSize)\n",
    "                    img2 = read_img(os.path.join(trainPath,folder2,imgList2[y]) , imgSize)\n",
    "                    pairList.append(((img1,img2),0))\n",
    "        \n",
    "np.random.shuffle(pairList)\n",
    "\n",
    "     "
   ]
  },
  {
   "cell_type": "markdown",
   "metadata": {},
   "source": [
    "#### Display image"
   ]
  },
  {
   "cell_type": "code",
   "execution_count": 31,
   "metadata": {},
   "outputs": [],
   "source": [
    "def display_image(folder1,img1,folder2,img2,train1=True,train2=True):\n",
    "    \n",
    "    \n",
    "    if train1 == True:\n",
    "        image1 = sorted(os.listdir(os.path.join(trainPath,folder1)))[img1]\n",
    "        image1 = read_img(os.path.join(trainPath,folder1,image1), imgSize)\n",
    "    else:\n",
    "        image1 = sorted(os.listdir(os.path.join(ValidationPath,folder1)))[img1]\n",
    "        image1 = read_img(os.path.join(ValidationPath,folder1,image1), imgSize)\n",
    "        \n",
    "    if train2 == True:\n",
    "        image2 = sorted(os.listdir(os.path.join(trainPath,folder2)))[img2]\n",
    "        image2 = read_img(os.path.join(trainPath,folder2,image2), imgSize)\n",
    "    else:\n",
    "        image2 = sorted(os.listdir(os.path.join(ValidationPath,folder2)))[img2]\n",
    "        image2 = read_img(os.path.join(ValidationPath,folder2,image2), imgSize)\n",
    "        \n",
    "    plt.subplot(211)\n",
    "    plt.imshow(image1)\n",
    "    \n",
    "    plt.subplot(212)\n",
    "    plt.imshow(image2)\n",
    "    "
   ]
  },
  {
   "cell_type": "code",
   "execution_count": 32,
   "metadata": {},
   "outputs": [
    {
     "data": {
      "image/png": "[encoded data removed]",
      "text/plain": [
       "<matplotlib.figure.Figure at 0x15801e104a8>"
      ]
     },
     "metadata": {},
     "output_type": "display_data"
    }
   ],
   "source": [
    "display_image('good-data',4,'flare-data',2,train1= True, train2= False)"
   ]
  },
  {
   "cell_type": "markdown",
   "metadata": {},
   "source": [
    "#### Model Selection\n",
    "\n",
    "Given the size of data set,  i used concept of one-shot learning i.e. Siamese Networks With CNN Base network. \n",
    "\n",
    "The major challenge with One-Shot Learning is the limited amount of data available to classify between numerous classes. Given the nature of the dataset, CNN was chosen since its the default neural network choice for working with images. However, given the need of basic CNNs for large amounts of data to work properly, we also look at a variant known as Siamese Networks i.e. Siamese Networks With CNN Base network. The dropout regularisation technique is used for reducing the overfitting in neural networks.\n",
    "\n",
    "The contrastive loss function used in Siamese network tends to increase distance between the negative pairs and decreases the distance betwen the positive pairs. \n",
    "\n"
   ]
  },
  {
   "cell_type": "markdown",
   "metadata": {},
   "source": [
    "#### Defining functions for the model"
   ]
  },
  {
   "cell_type": "code",
   "execution_count": 75,
   "metadata": {},
   "outputs": [],
   "source": [
    "def euclidean_distance(vects):\n",
    "    x, y = vects\n",
    "    return K.sqrt(K.sum(K.square(x - y), axis=1, keepdims=True))\n",
    "\n",
    "\n",
    "def eucl_dist_output_shape(shapes):\n",
    "    shape1, shape2 = shapes\n",
    "    return (shape1[0], 1)\n",
    "\n",
    "\n",
    "def contrastive_loss(y_true, y_pred):\n",
    "    '''Contrastive loss from Hadsell-et-al.'06\n",
    "    http://yann.lecun.com/exdb/publis/pdf/hadsell-chopra-lecun-06.pdf\n",
    "    '''\n",
    "    margin = 1\n",
    "    return K.mean(y_true * K.square(y_pred) + (1 - y_true) * K.square(K.maximum(margin - y_pred, 0)))\n",
    "\n",
    "def compute_accuracy(predictions, labels):\n",
    "    '''Compute classification accuracy with a fixed threshold on distances.\n",
    "    '''\n",
    "    return labels[predictions.ravel() < 0.5].mean()\n",
    "\n",
    "def W_init(shape,name=None):\n",
    "    \n",
    "    values = rng.normal(loc=0,scale=1e-2,size=shape)\n",
    "    return K.variable(values,name=name)\n",
    "\n",
    "\n",
    "def b_init(shape,name=None):\n",
    "    \n",
    "    values=rng.normal(loc=0.5,scale=1e-2,size=shape)\n",
    "    return K.variable(values,name=name)"
   ]
  },
  {
   "cell_type": "markdown",
   "metadata": {},
   "source": [
    "#### Defining the model"
   ]
  },
  {
   "cell_type": "code",
   "execution_count": 76,
   "metadata": {},
   "outputs": [],
   "source": [
    "baseModel = Sequential()\n",
    "baseModel.add(BatchNormalization(input_shape = input_dim))\n",
    "baseModel.add(Conv2D(64, (7,7),activation='relu', data_format='channels_last',kernel_initializer=W_init))\n",
    "baseModel.add(MaxPooling2D())\n",
    "\n",
    "baseModel.add(Dropout(0.3))\n",
    "baseModel.add(Conv2D(128, (5,5),activation='relu',kernel_initializer=W_init, bias_initializer=izer=b_init))\n",
    "baseModel.add(Dropout(0.3))\n",
    "baseModel.add(Conv2D(256, (3,3),activation='relu',kernel_initializer=W_init, bias_initializer=b_init))\n",
    "baseModel.add(Flatten())\n",
    "baseModel.add(Dense(1028, activation='relu'))\n",
    "\n",
    "inputA = Input(shape = input_dim)\n",
    "inputB = Input(shape = input_dim)\n",
    "\n",
    "outputA = baseModel(inputA)\n",
    "outputB = baseModel(inputB)\n",
    "\n",
    "\n",
    "#Extracting data\n",
    "inputAimgs = np.array([x[0][0] for x in pairList])\n",
    "inputBimgs = np.array([x[0][1] for x in pairList])\n",
    "target = np.array([x[1] for x in pairList])"
   ]
  },
  {
   "cell_type": "markdown",
   "metadata": {},
   "source": [
    "#### Loss functions used : \n",
    "Siamese Network uses Contrastive Loss as the loss function. I used Adadelta optimiser because of its adaptive learning rate.\n"
   ]
  },
  {
   "cell_type": "markdown",
   "metadata": {},
   "source": [
    "### Siamese Net Model"
   ]
  },
  {
   "cell_type": "code",
   "execution_count": 77,
   "metadata": {},
   "outputs": [
    {
     "name": "stderr",
     "output_type": "stream",
     "text": [
      "C:\\Users\\akaur\\Anaconda3\\lib\\site-packages\\ipykernel_launcher.py:3: UserWarning: Update your `Model` call to the Keras 2 API: `Model(inputs=[<tf.Tenso..., outputs=Tensor(\"la...)`\n",
      "  This is separate from the ipykernel package so we can avoid doing imports until\n"
     ]
    }
   ],
   "source": [
    "distance = Lambda(euclidean_distance, output_shape=eucl_dist_output_shape)([outputA,outputB])\n",
    "\n",
    "Siamese = Model(input=[inputA, inputB], output=distance)\n",
    "\n",
    "Siamese.compile(Adadelta(lr=0.0001),loss=contrastive_loss)\n",
    "\n"
   ]
  },
  {
   "cell_type": "code",
   "execution_count": null,
   "metadata": {},
   "outputs": [],
   "source": [
    "Siamese.fit([inputAimgs,inputBimgs], target, batch_size = 30,epochs = 50)"
   ]
  },
  {
   "cell_type": "markdown",
   "metadata": {},
   "source": [
    "#### Performance Metrics/Loss Functions\n",
    " Since the task involved is a classification one, I have used accuracy as the performance metric for the task. Since One-Shot learning focuses on the ability to classify a large number of classes based on lesser amounts of data, the accuracy is tested for different number of classes.\n",
    " \n",
    " I used the Validation Data to compute the accuracy of model.\n",
    "\n"
   ]
  },
  {
   "cell_type": "markdown",
   "metadata": {},
   "source": [
    "## Validation Accuracy"
   ]
  },
  {
   "cell_type": "code",
   "execution_count": 79,
   "metadata": {},
   "outputs": [],
   "source": [
    "def getSupportImgs(path):\n",
    "    \n",
    "    supportImg=[]\n",
    "    \n",
    "    os.chdir(path)\n",
    "    folderList = os.listdir(\"./\")\n",
    "    \n",
    "    for folder in folderList:\n",
    "        os.chdir(os.path.join(path,folder))\n",
    "        imgList = os.listdir(\"./\")\n",
    "        \n",
    "        img = read_img(os.path.join(path,folder,choice(imgList)), imgSize)\n",
    "        supportImg.append([img,folder])\n",
    "        \n",
    "    return(supportImg)\n",
    "        \n",
    "\n",
    "def predictBestFolder(img,label,trainPath,model,numImages =10,printList = False):\n",
    "    \n",
    "    predList = []\n",
    "    \n",
    "    folderList = sorted(os.listdir(trainPath))\n",
    "    \n",
    "    for folder in folderList:\n",
    "        \n",
    "        imgList = choice(os.listdir(os.path.join(trainPath,folder)), numImages, replace = False )\n",
    "        folderPreds = []\n",
    "        for i in range(numImages):\n",
    "            folderImg = read_img(os.path.join(trainPath,folder,imgList[i]), imgSize )\n",
    "            pred = model.predict([img.reshape(1,imgSize[0],imgSize[1],3), folderImg.reshape(1,imgSize[0],imgSize[1],3)])\n",
    "            folderPreds.append(pred)\n",
    "        \n",
    "        predList.append([folder, np.mean(folderPreds)])\n",
    "    \n",
    "    predList = sorted(predList, key = lambda x:x[1])\n",
    "    \n",
    "    if printList == True:\n",
    "        print(predList)\n",
    "        \n",
    "    return(predList[0])\n"
   ]
  },
  {
   "cell_type": "markdown",
   "metadata": {},
   "source": [
    "\n",
    "#### Accuracy of Siamese model on Validation data"
   ]
  },
  {
   "cell_type": "code",
   "execution_count": 81,
   "metadata": {},
   "outputs": [
    {
     "name": "stdout",
     "output_type": "stream",
     "text": [
      "Img : 20170502T171526_G0094538.JPG True Label : blurry-data  Predicted Label : blurry-data Accuracy : 1.0\n",
      "Img : 20170502T171758_G0107418.JPG True Label : blurry-data  Predicted Label : blurry-data Accuracy : 1.0\n",
      "Img : 20170502T171806_G0094778.JPG True Label : blurry-data  Predicted Label : blurry-data Accuracy : 1.0\n",
      "Img : 20170502T171813_G0094788.JPG True Label : blurry-data  Predicted Label : blurry-data Accuracy : 1.0\n",
      "Img : 20170502T171838_G0107479.JPG True Label : blurry-data  Predicted Label : blurry-data Accuracy : 1.0\n",
      "Img : 20170428T090330_G0015142.JPG True Label : flare-data  Predicted Label : blurry-data Accuracy : 0.833\n",
      "Img : 20170428T090335_G0015150.JPG True Label : flare-data  Predicted Label : blurry-data Accuracy : 0.714\n",
      "Img : 20170428T090338_G0015154.JPG True Label : flare-data  Predicted Label : blurry-data Accuracy : 0.625\n",
      "Img : 20170428T090340_G0015157.JPG True Label : flare-data  Predicted Label : flare-data Accuracy : 0.667\n",
      "Img : 20170427T135055_G0056423.JPG True Label : good-data  Predicted Label : good-data Accuracy : 0.7\n",
      "Img : 20170427T135100_G0055678.JPG True Label : good-data  Predicted Label : good-data Accuracy : 0.727\n",
      "Img : 20170427T135100_G0055679.JPG True Label : good-data  Predicted Label : good-data Accuracy : 0.75\n",
      "Img : 20170427T135102_G0055682.JPG True Label : good-data  Predicted Label : good-data Accuracy : 0.769\n",
      "Img : 20170427T135120_G0055708.JPG True Label : good-data  Predicted Label : good-data Accuracy : 0.786\n",
      "Accuracy : 0.7857142857142857\n"
     ]
    }
   ],
   "source": [
    "folderList = sorted( os.listdir(ValidationPath))\n",
    "correctPred = 0\n",
    "testImageCount = 0\n",
    "\n",
    "for folder in folderList:\n",
    "    os.chdir(os.path.join(ValidationPath,folder))\n",
    "    imgList = os.listdir(\"./\")\n",
    "    \n",
    "    for img in imgList:\n",
    "        imgName = img\n",
    "        testImageCount+=1\n",
    "        \n",
    "        img = read_img(os.path.join(ValidationPath,folder,img), imgSize)\n",
    "        bestLabel = predictBestFolder(img,folder,trainPath,Siamese)[0]\n",
    "        \n",
    "        if bestLabel == folder:\n",
    "            correctPred+=1\n",
    "        acc = round(correctPred/float(testImageCount),3)\n",
    "        print(\"Img : {} True Label : {}  Predicted Label : {} Accuracy : {}\".format(imgName,folder,bestLabel,acc))\n",
    "        \n",
    "accuracy = correctPred/float(testImageCount)\n",
    "print(\"Accuracy : {}\".format(accuracy))\n"
   ]
  },
  {
   "cell_type": "code",
   "execution_count": 83,
   "metadata": {},
   "outputs": [],
   "source": [
    "save_model(Siamese,'./bestModel_0.81.hdf5')"
   ]
  },
  {
   "cell_type": "code",
   "execution_count": 87,
   "metadata": {},
   "outputs": [
    {
     "name": "stdout",
     "output_type": "stream",
     "text": [
      "_________________________________________________________________\n",
      "Layer (type)                 Output Shape              Param #   \n",
      "=================================================================\n",
      "batch_normalization_5 (Batch (None, 45, 45, 3)         12        \n",
      "_________________________________________________________________\n",
      "conv2d_13 (Conv2D)           (None, 39, 39, 64)        9472      \n",
      "_________________________________________________________________\n",
      "max_pooling2d_5 (MaxPooling2 (None, 19, 19, 64)        0         \n",
      "_________________________________________________________________\n",
      "dropout_9 (Dropout)          (None, 19, 19, 64)        0         \n",
      "_________________________________________________________________\n",
      "conv2d_14 (Conv2D)           (None, 15, 15, 128)       204928    \n",
      "_________________________________________________________________\n",
      "dropout_10 (Dropout)         (None, 15, 15, 128)       0         \n",
      "_________________________________________________________________\n",
      "conv2d_15 (Conv2D)           (None, 13, 13, 256)       295168    \n",
      "_________________________________________________________________\n",
      "flatten_5 (Flatten)          (None, 43264)             0         \n",
      "_________________________________________________________________\n",
      "dense_5 (Dense)              (None, 1028)              44476420  \n",
      "=================================================================\n",
      "Total params: 44,986,000\n",
      "Trainable params: 44,985,994\n",
      "Non-trainable params: 6\n",
      "_________________________________________________________________\n"
     ]
    }
   ],
   "source": [
    "baseModel.summary()"
   ]
  },
  {
   "cell_type": "markdown",
   "metadata": {},
   "source": [
    "#### Results Of Validation Accuracy\n",
    "\n",
    "The Validtaion Accuracy of Siamese model is 78 percent. The model is able to classify the good images, blurry images and flare images with overall accuracy of 78 percent.\n",
    "\n",
    "\n",
    "\n"
   ]
  }
 ],
 "metadata": {
  "kernelspec": {
   "display_name": "Python 3",
   "language": "python",
   "name": "python3"
  },
  "language_info": {
   "codemirror_mode": {
    "name": "ipython",
    "version": 3
   },
   "file_extension": ".py",
   "mimetype": "text/x-python",
   "name": "python",
   "nbconvert_exporter": "python",
   "pygments_lexer": "ipython3",
   "version": "3.6.4"
  }
 },
 "nbformat": 4,
 "nbformat_minor": 2
}
